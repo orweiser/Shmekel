{
 "cells": [
  {
   "cell_type": "code",
   "execution_count": 1,
   "metadata": {},
   "outputs": [
    {
     "name": "stderr",
     "output_type": "stream",
     "text": [
      "C:\\Users\\Rotem\\Anaconda3\\envs\\shmekel3\\lib\\site-packages\\tensorflow\\python\\framework\\dtypes.py:516: FutureWarning: Passing (type, 1) or '1type' as a synonym of type is deprecated; in a future version of numpy, it will be understood as (type, (1,)) / '(1,)type'.\n",
      "  _np_qint8 = np.dtype([(\"qint8\", np.int8, 1)])\n",
      "C:\\Users\\Rotem\\Anaconda3\\envs\\shmekel3\\lib\\site-packages\\tensorflow\\python\\framework\\dtypes.py:517: FutureWarning: Passing (type, 1) or '1type' as a synonym of type is deprecated; in a future version of numpy, it will be understood as (type, (1,)) / '(1,)type'.\n",
      "  _np_quint8 = np.dtype([(\"quint8\", np.uint8, 1)])\n",
      "C:\\Users\\Rotem\\Anaconda3\\envs\\shmekel3\\lib\\site-packages\\tensorflow\\python\\framework\\dtypes.py:518: FutureWarning: Passing (type, 1) or '1type' as a synonym of type is deprecated; in a future version of numpy, it will be understood as (type, (1,)) / '(1,)type'.\n",
      "  _np_qint16 = np.dtype([(\"qint16\", np.int16, 1)])\n",
      "C:\\Users\\Rotem\\Anaconda3\\envs\\shmekel3\\lib\\site-packages\\tensorflow\\python\\framework\\dtypes.py:519: FutureWarning: Passing (type, 1) or '1type' as a synonym of type is deprecated; in a future version of numpy, it will be understood as (type, (1,)) / '(1,)type'.\n",
      "  _np_quint16 = np.dtype([(\"quint16\", np.uint16, 1)])\n",
      "C:\\Users\\Rotem\\Anaconda3\\envs\\shmekel3\\lib\\site-packages\\tensorflow\\python\\framework\\dtypes.py:520: FutureWarning: Passing (type, 1) or '1type' as a synonym of type is deprecated; in a future version of numpy, it will be understood as (type, (1,)) / '(1,)type'.\n",
      "  _np_qint32 = np.dtype([(\"qint32\", np.int32, 1)])\n",
      "C:\\Users\\Rotem\\Anaconda3\\envs\\shmekel3\\lib\\site-packages\\tensorflow\\python\\framework\\dtypes.py:525: FutureWarning: Passing (type, 1) or '1type' as a synonym of type is deprecated; in a future version of numpy, it will be understood as (type, (1,)) / '(1,)type'.\n",
      "  np_resource = np.dtype([(\"resource\", np.ubyte, 1)])\n"
     ]
    },
    {
     "name": "stdout",
     "output_type": "stream",
     "text": [
      "Copy the following path to the next cell:\n",
      " C:\\Users\\Rotem\\Shmekel\\api\\utils\\Shmekel_Results\\extra\\research_kickstart\\RSI6_candle_blunder_augmentation_2_percent_tensorboard_callback.json\\logs\n"
     ]
    },
    {
     "name": "stderr",
     "output_type": "stream",
     "text": [
      "C:\\Users\\Rotem\\Anaconda3\\envs\\shmekel3\\lib\\site-packages\\tensorboard\\compat\\tensorflow_stub\\dtypes.py:541: FutureWarning: Passing (type, 1) or '1type' as a synonym of type is deprecated; in a future version of numpy, it will be understood as (type, (1,)) / '(1,)type'.\n",
      "  _np_qint8 = np.dtype([(\"qint8\", np.int8, 1)])\n",
      "C:\\Users\\Rotem\\Anaconda3\\envs\\shmekel3\\lib\\site-packages\\tensorboard\\compat\\tensorflow_stub\\dtypes.py:542: FutureWarning: Passing (type, 1) or '1type' as a synonym of type is deprecated; in a future version of numpy, it will be understood as (type, (1,)) / '(1,)type'.\n",
      "  _np_quint8 = np.dtype([(\"quint8\", np.uint8, 1)])\n",
      "C:\\Users\\Rotem\\Anaconda3\\envs\\shmekel3\\lib\\site-packages\\tensorboard\\compat\\tensorflow_stub\\dtypes.py:543: FutureWarning: Passing (type, 1) or '1type' as a synonym of type is deprecated; in a future version of numpy, it will be understood as (type, (1,)) / '(1,)type'.\n",
      "  _np_qint16 = np.dtype([(\"qint16\", np.int16, 1)])\n",
      "C:\\Users\\Rotem\\Anaconda3\\envs\\shmekel3\\lib\\site-packages\\tensorboard\\compat\\tensorflow_stub\\dtypes.py:544: FutureWarning: Passing (type, 1) or '1type' as a synonym of type is deprecated; in a future version of numpy, it will be understood as (type, (1,)) / '(1,)type'.\n",
      "  _np_quint16 = np.dtype([(\"quint16\", np.uint16, 1)])\n",
      "C:\\Users\\Rotem\\Anaconda3\\envs\\shmekel3\\lib\\site-packages\\tensorboard\\compat\\tensorflow_stub\\dtypes.py:545: FutureWarning: Passing (type, 1) or '1type' as a synonym of type is deprecated; in a future version of numpy, it will be understood as (type, (1,)) / '(1,)type'.\n",
      "  _np_qint32 = np.dtype([(\"qint32\", np.int32, 1)])\n",
      "C:\\Users\\Rotem\\Anaconda3\\envs\\shmekel3\\lib\\site-packages\\tensorboard\\compat\\tensorflow_stub\\dtypes.py:550: FutureWarning: Passing (type, 1) or '1type' as a synonym of type is deprecated; in a future version of numpy, it will be understood as (type, (1,)) / '(1,)type'.\n",
      "  np_resource = np.dtype([(\"resource\", np.ubyte, 1)])\n"
     ]
    }
   ],
   "source": [
    "import tensorflow as tf\n",
    "import datetime, os\n",
    "\n",
    "%load_ext tensorboard\n",
    "\n",
    "log_path = os.path.abspath(os.path.join(os.pardir, 'Shmekel_Results', 'extra', 'research_kickstart', 'RSI6_candle_blunder_augmentation_2_percent_tensorboard_callback.json', 'logs'))\n",
    "print(f'Copy the following path to the next cell:\\n', log_path)"
   ]
  },
  {
   "cell_type": "code",
   "execution_count": 2,
   "metadata": {},
   "outputs": [
    {
     "data": {
      "text/plain": [
       "Reusing TensorBoard on port 6006 (pid 8408), started 0:07:31 ago. (Use '!kill 8408' to kill it.)"
      ]
     },
     "metadata": {},
     "output_type": "display_data"
    },
    {
     "name": "stderr",
     "output_type": "stream",
     "text": [
      "invalid info file: 'C:\\\\Users\\\\Rotem\\\\AppData\\\\Local\\\\Temp\\\\.tensorboard-info\\\\pid-9856.info'\n",
      "Traceback (most recent call last):\n",
      "  File \"C:\\Users\\Rotem\\Anaconda3\\envs\\shmekel3\\lib\\site-packages\\tensorboard\\manager.py\", line 316, in get_all\n",
      "    info = _info_from_string(contents)\n",
      "  File \"C:\\Users\\Rotem\\Anaconda3\\envs\\shmekel3\\lib\\site-packages\\tensorboard\\manager.py\", line 155, in _info_from_string\n",
      "    raise ValueError(\"incompatible version: %r\" % (json_value,))\n",
      "ValueError: incompatible version: {'cache_key': 'eyJhcmd1bWVudHMiOlsiLS1sb2dkaXIiLCJDOlxcVXNlcnNcXFJvdGVtXFxTaG1la2VsX1Jlc3VsdHNcXGV4dHJhXFxyZXNlYXJjaF9raWNrc3RhcnRcXHRiX3Rlc3QiXSwiY29uZmlndXJlX2t3YXJncyI6e30sIndvcmtpbmdfZGlyZWN0b3J5IjoiQzpcXFVzZXJzXFxSb3RlbVxcU2htZWtlbCJ9', 'db': '', 'logdir': 'C:\\\\Users\\\\Rotem\\\\Shmekel_Results\\\\extra\\\\research_kickstart\\\\tb_test', 'path_prefix': '', 'pid': 9856, 'port': 6006, 'start_time': 1600883716, 'version': '2.2.1'}\n",
      "invalid info file: 'C:\\\\Users\\\\Rotem\\\\AppData\\\\Local\\\\Temp\\\\.tensorboard-info\\\\pid-9856.info'\n",
      "Traceback (most recent call last):\n",
      "  File \"C:\\Users\\Rotem\\Anaconda3\\envs\\shmekel3\\lib\\site-packages\\tensorboard\\manager.py\", line 316, in get_all\n",
      "    info = _info_from_string(contents)\n",
      "  File \"C:\\Users\\Rotem\\Anaconda3\\envs\\shmekel3\\lib\\site-packages\\tensorboard\\manager.py\", line 155, in _info_from_string\n",
      "    raise ValueError(\"incompatible version: %r\" % (json_value,))\n",
      "ValueError: incompatible version: {'cache_key': 'eyJhcmd1bWVudHMiOlsiLS1sb2dkaXIiLCJDOlxcVXNlcnNcXFJvdGVtXFxTaG1la2VsX1Jlc3VsdHNcXGV4dHJhXFxyZXNlYXJjaF9raWNrc3RhcnRcXHRiX3Rlc3QiXSwiY29uZmlndXJlX2t3YXJncyI6e30sIndvcmtpbmdfZGlyZWN0b3J5IjoiQzpcXFVzZXJzXFxSb3RlbVxcU2htZWtlbCJ9', 'db': '', 'logdir': 'C:\\\\Users\\\\Rotem\\\\Shmekel_Results\\\\extra\\\\research_kickstart\\\\tb_test', 'path_prefix': '', 'pid': 9856, 'port': 6006, 'start_time': 1600883716, 'version': '2.2.1'}\n"
     ]
    },
    {
     "data": {
      "text/html": [
       "\n",
       "        <iframe\n",
       "            width=\"100%\"\n",
       "            height=\"800\"\n",
       "            src=\"http://localhost:6006\"\n",
       "            frameborder=\"0\"\n",
       "            allowfullscreen\n",
       "        ></iframe>\n",
       "        "
      ],
      "text/plain": [
       "<IPython.lib.display.IFrame at 0x1870d4985f8>"
      ]
     },
     "metadata": {},
     "output_type": "display_data"
    }
   ],
   "source": [
    "# %tensorboard --logdir=log_path  isn't working for some reason\n",
    "%tensorboard --logdir 'C:\\Users\\Rotem\\Shmekel\\api\\utils\\Shmekel_Results\\extra\\research_kickstart\\RSI6_candle_blunder_augmentation_2_percent_tensorboard_callback.json\\logs'"
   ]
  },
  {
   "cell_type": "code",
   "execution_count": null,
   "metadata": {},
   "outputs": [],
   "source": []
  }
 ],
 "metadata": {
  "kernelspec": {
   "display_name": "Python 3",
   "language": "python",
   "name": "python3"
  },
  "language_info": {
   "codemirror_mode": {
    "name": "ipython",
    "version": 3
   },
   "file_extension": ".py",
   "mimetype": "text/x-python",
   "name": "python",
   "nbconvert_exporter": "python",
   "pygments_lexer": "ipython3",
   "version": "3.6.12"
  }
 },
 "nbformat": 4,
 "nbformat_minor": 2
}
