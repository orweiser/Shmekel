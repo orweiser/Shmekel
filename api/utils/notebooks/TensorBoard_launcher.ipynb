{
 "cells": [
  {
   "cell_type": "code",
   "execution_count": null,
   "metadata": {},
   "outputs": [],
   "source": [
    "import tensorflow as tf\n",
    "import datetime, os\n",
    "\n",
    "%load_ext tensorboard\n",
    "\n",
    "log_path = os.path.abspath(os.path.join(os.pardir, 'Shmekel_Results', 'extra', 'research_kickstart', 'RSI6_candle_blunder_augmentation_2_percent_tensorboard_callback.json', 'logs'))\n",
    "print(f'Copy the following path to the next cell:\\n', log_path)"
   ]
  },
  {
   "cell_type": "code",
   "execution_count": null,
   "metadata": {},
   "outputs": [],
   "source": [
    "# %tensorboard --logdir=log_path  isn't working for some reason\n",
    "%tensorboard --logdir 'C:\\Users\\Rotem\\Shmekel\\api\\utils\\Shmekel_Results\\extra\\research_kickstart\\RSI6_candle_blunder_augmentation_2_percent_tensorboard_callback.json\\logs'"
   ]
  },
  {
   "cell_type": "code",
   "execution_count": null,
   "metadata": {},
   "outputs": [],
   "source": []
  }
 ],
 "metadata": {
  "kernelspec": {
   "display_name": "Python 3",
   "language": "python",
   "name": "python3"
  },
  "language_info": {
   "codemirror_mode": {
    "name": "ipython",
    "version": 3
   },
   "file_extension": ".py",
   "mimetype": "text/x-python",
   "name": "python",
   "nbconvert_exporter": "python",
   "pygments_lexer": "ipython3",
   "version": "3.6.12"
  }
 },
 "nbformat": 4,
 "nbformat_minor": 2
}
