{
 "cells": [
  {
   "cell_type": "code",
   "execution_count": null,
   "metadata": {},
   "outputs": [],
   "source": [
    "ShmekelPath = r'C:\\Users\\Danielle\\PycharmProjects\\Shmekel'\n",
    "template_path = r'configs/eden/classification_refinfoce_loss_grid_search/fine_tune_0/template.json'\n",
    "\n",
    "import os\n",
    "os.chdir(ShmekelPath)\n",
    "\n",
    "import pandas\n",
    "import plotly\n",
    "import plotly.graph_objs as go\n",
    "plotly.offline.init_notebook_mode(connected=True)\n",
    "from pandas.api.types import is_string_dtype, is_numeric_dtype\n",
    "import numpy as np\n",
    "from api.core.grid_search import GridSearch\n",
    "\n",
    "\n",
    "from Utils.logger import logger\n",
    "logger.set_stream_level('warning')\n",
    "\n",
    "\n",
    "gs = GridSearch(template_path=template_path)\n",
    "THE_METRIC = 'val_certain_predictions_acc'\n",
    "\n",
    "\n",
    "def _generate_plotly_dim_dict(df: pandas.DataFrame, field):\n",
    "    dim_dict = {}\n",
    "    dim_dict[\"label\"] = field\n",
    "    column = df[field]\n",
    "    if is_numeric_dtype(column):\n",
    "        dim_dict[\"values\"] = column\n",
    "    elif is_string_dtype(column):\n",
    "        texts = column.unique()\n",
    "        dim_dict[\"values\"] = [\n",
    "            np.argwhere(texts == x).flatten()[0] for x in column\n",
    "        ]\n",
    "        dim_dict[\"tickvals\"] = list(range(len(texts)))\n",
    "        dim_dict[\"ticktext\"] = texts\n",
    "    else:\n",
    "        raise Exception(\"Unidentifiable Type\")\n",
    "\n",
    "    return dim_dict\n",
    "\n",
    "\n",
    "def data_frame_to_parallel_plot_data(df: pandas.DataFrame):\n",
    "    line = dict(color=-df[THE_METRIC], colorscale='Jet')\n",
    "    dimensions = [_generate_plotly_dim_dict(df, field) for field in df]\n",
    "\n",
    "    return [go.Parcoords(line=line, dimensions=dimensions)]\n",
    "\n",
    "\n",
    "def grid_search_to_data_frame(gs: GridSearch, the_metric=THE_METRIC, metrics=('val_certainty_sharpness', 'val_uncertain_fraction')):\n",
    "    converter = gs.get_exp_name_2_combs_converter(minimal=True)\n",
    "\n",
    "    columns = None\n",
    "    for comb in converter.values():\n",
    "        columns = [field for field in comb.keys()]\n",
    "        break\n",
    "\n",
    "    columns = ('__Name__',) +  tuple([c for c in columns if c not in ['__Name__']]) + tuple(metrics) + (the_metric,)\n",
    "\n",
    "    df = {field: [] for field in columns}\n",
    "\n",
    "    for exp in gs:\n",
    "        line = converter[exp.name]\n",
    "        \n",
    "        epoch = exp.results.get_best_epoch(the_metric)\n",
    "        epoch = exp.results.epoch_list[3]\n",
    "        print(exp.name, epoch['val_uncertain_fraction'])\n",
    "\n",
    "        for m in metrics + (the_metric,):\n",
    "            line[m] = epoch[m]\n",
    "\n",
    "        for field, val in line.items():\n",
    "            if isinstance(val, list):\n",
    "                val = str(val)\n",
    "            \n",
    "            df[field].append(val)\n",
    "    \n",
    "#     _ = df.pop('__InputShape__')\n",
    "    \n",
    "    return pandas.DataFrame.from_dict(df)"
   ]
  },
  {
   "cell_type": "code",
   "execution_count": null,
   "metadata": {},
   "outputs": [],
   "source": [
    "plotly.offline.iplot(data_frame_to_parallel_plot_data(grid_search_to_data_frame(gs)))"
   ]
  },
  {
   "cell_type": "code",
   "execution_count": null,
   "metadata": {},
   "outputs": [],
   "source": [
    "list(gs.iter_exps())[0].results.history.keys()"
   ]
  },
  {
   "cell_type": "code",
   "execution_count": null,
   "metadata": {},
   "outputs": [],
   "source": []
  }
 ],
 "metadata": {
  "kernelspec": {
   "display_name": "Python 3",
   "language": "python",
   "name": "python3"
  },
  "language_info": {
   "codemirror_mode": {
    "name": "ipython",
    "version": 3
   },
   "file_extension": ".py",
   "mimetype": "text/x-python",
   "name": "python",
   "nbconvert_exporter": "python",
   "pygments_lexer": "ipython3",
   "version": "3.6.5"
  }
 },
 "nbformat": 4,
 "nbformat_minor": 2
}
